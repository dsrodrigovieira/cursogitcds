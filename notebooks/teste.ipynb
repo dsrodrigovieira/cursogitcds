{
 "cells": [
  {
   "cell_type": "code",
   "execution_count": 4,
   "metadata": {},
   "outputs": [
    {
     "name": "stdout",
     "output_type": "stream",
     "text": [
      "main - l1\n"
     ]
    }
   ],
   "source": [
    "print('main - l1')"
   ]
  },
  {
   "cell_type": "code",
   "execution_count": 5,
   "metadata": {},
   "outputs": [
    {
     "name": "stdout",
     "output_type": "stream",
     "text": [
      "main - l2\n"
     ]
    }
   ],
   "source": [
    "print('main - l2')"
   ]
  },
  {
   "cell_type": "code",
   "execution_count": 6,
   "metadata": {},
   "outputs": [
    {
     "name": "stdout",
     "output_type": "stream",
     "text": [
      "main - l3\n"
     ]
    }
   ],
   "source": [
    "print('main-l3')"
   ]
  }
 ],
 "metadata": {
  "kernelspec": {
   "display_name": "git_cds",
   "language": "python",
   "name": "python3"
  },
  "language_info": {
   "name": "python",
   "version": "3.9.17"
  },
  "orig_nbformat": 4
 },
 "nbformat": 4,
 "nbformat_minor": 2
}
